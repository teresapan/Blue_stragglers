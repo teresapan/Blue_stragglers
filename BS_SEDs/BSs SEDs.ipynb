{
 "cells": [
  {
   "cell_type": "code",
   "execution_count": 5,
   "metadata": {
    "collapsed": false
   },
   "outputs": [],
   "source": [
    "from astropy.io import ascii\n",
    "from astropy.table import Table, Column, Row\n",
    "import matplotlib.pyplot as plt\n",
    "from __future__ import division\n",
    "import pickle\n",
    "import numpy as np\n",
    "import pandas as pd\n",
    "import scipy as scipy\n",
    "import matplotlib.gridspec as gridspec\n",
    "from astropy.io import fits\n",
    "import math\n",
    "%matplotlib inline"
   ]
  },
  {
   "cell_type": "code",
   "execution_count": 45,
   "metadata": {
    "collapsed": false,
    "scrolled": true
   },
   "outputs": [],
   "source": [
    "#Creating and organizing tables of NGC 4833 which includes observable BSs and theoretical templates of single and binary\n",
    "#combos\n",
    "\n",
    "t4833 = ascii.read(\"ngc4833_BSS_flux.txt\")\n",
    "tb4833 = ascii.read(\"iso1_ngc4833_binaries.dat\", names = ('mass1',' Teff1', 'mass', 'Teff2', 'F275', 'F336', \n",
    "                                                          'F438', 'F606', 'F814'))\n",
    "with open('iso1_ngc4833_singles.dat') as f:\n",
    "    col = f.readline()\n",
    "    col = col.strip('\\n').split(' ')\n",
    "ts4833 = pd.read_csv('iso1_ngc4833_singles.dat', header=None, skiprows=1)\n",
    "ts4833.columns = col\n",
    "\n",
    "#Creating arrays for plotting for each waveband\n",
    "a = [2750] * 51\n",
    "b = [3360] * 51\n",
    "c = [4380] * 51\n",
    "d = [6060] * 51\n",
    "e = [8140] * 51\n",
    "\n",
    "#Creating and organizing table for  NGC 4833 Chi2 Singles\n",
    "schi4833 = ascii.read(\"ngc4833_chi2_singles.dat\",names = ('Mass', 'Temperature',  'F275', 'F336', 'F438', \n",
    "                                                          'F606', 'F814', 'Chi Square'))"
   ]
  },
  {
   "cell_type": "code",
   "execution_count": 53,
   "metadata": {
    "collapsed": false,
    "scrolled": true
   },
   "outputs": [
    {
     "data": {
      "text/plain": [
       "[<matplotlib.lines.Line2D at 0x13933e110>]"
      ]
     },
     "execution_count": 53,
     "metadata": {},
     "output_type": "execute_result"
    },
    {
     "data": {
      "image/png": "[encoded data removed]",
      "text/plain": [
       "<matplotlib.figure.Figure at 0x132b030d0>"
      ]
     },
     "metadata": {},
     "output_type": "display_data"
    }
   ],
   "source": [
    "plt.plot(a,schi4833['F275'], 'o',c= 'black',mfc=\"None\")\n",
    "plt.plot(b,schi4833['F336'], 'o',c= 'black',mfc=\"None\")\n",
    "plt.plot(c,schi4833['F438'], 'o',c= 'black',mfc=\"None\")\n",
    "plt.plot(d,schi4833['F606'], 'o',c= 'black',mfc=\"None\")\n",
    "plt.plot(e,schi4833['F814'], 'o',c= 'black',mfc=\"None\")\n",
    "plt.plot(a,t4833['F_275'],'o',c= 'red')\n",
    "plt.plot(b,t4833['F_336'],'o',c= 'red')\n",
    "plt.plot(c,t4833['F_438'],'o',c= 'red')\n",
    "plt.plot(d,t4833['F_606'],'o',c= 'red')\n",
    "plt.plot(e,t4833['F_814'],'o',c= 'red')\n"
   ]
  },
  {
   "cell_type": "code",
   "execution_count": null,
   "metadata": {
    "collapsed": true
   },
   "outputs": [],
   "source": []
  }
 ],
 "metadata": {
  "kernelspec": {
   "display_name": "Python 2",
   "language": "python",
   "name": "python2"
  },
  "language_info": {
   "codemirror_mode": {
    "name": "ipython",
    "version": 2
   },
   "file_extension": ".py",
   "mimetype": "text/x-python",
   "name": "python",
   "nbconvert_exporter": "python",
   "pygments_lexer": "ipython2",
   "version": "2.7.13"
  }
 },
 "nbformat": 4,
 "nbformat_minor": 0
}
